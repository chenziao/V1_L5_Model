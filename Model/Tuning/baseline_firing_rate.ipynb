{
 "cells": [
  {
   "cell_type": "code",
   "execution_count": 1,
   "id": "f58b43ed",
   "metadata": {},
   "outputs": [],
   "source": [
    "import numpy as np\n",
    "import matplotlib.pyplot as plt\n",
    "import neuron\n",
    "from neuron import h\n",
    "\n",
    "h.load_file('stdrun.hoc')\n",
    "mechanisms_dir = '../components/mechanisms'\n",
    "templates_file = '../components/templates/templates.hoc'\n",
    "neuron.load_mechanisms(mechanisms_dir)\n",
    "h.load_file(templates_file) # reads in template\n",
    "\n",
    "h.dt = 0.05 # time step (resolution) of the simulation in ms\n",
    "h.steps_per_ms = 1 / h.dt\n",
    "h.celsius = 36.0"
   ]
  },
  {
   "cell_type": "markdown",
   "id": "d35e136e",
   "metadata": {},
   "source": [
    "### Setup"
   ]
  },
  {
   "cell_type": "code",
   "execution_count": 2,
   "id": "150e8ac5",
   "metadata": {},
   "outputs": [],
   "source": [
    "\"\"\"\n",
    "initW estimated from intrinsic excitatory connections\n",
    "CP: 1.2, CS: 0.6, FSI: 0.5, LTS: 0.1\n",
    "\"\"\"\n",
    "\n",
    "cell_type_settings = {\n",
    "    'CP_Cell': {\n",
    "        'sec_id': 2,\n",
    "        'sec_x': 0.8,\n",
    "        'weight': 1.,\n",
    "        'syn_param': {\n",
    "            \"initW\": 5.0,\n",
    "            \"tau_d_AMPA\": 5.2,\n",
    "            \"Use\": 1.0,\n",
    "            \"Dep\": 0.0,\n",
    "            \"Fac\": 0.0\n",
    "        },\n",
    "        'gfluct': {\n",
    "            'g_e0': 0.0052,\n",
    "            'g_i0': 0.005,\n",
    "            'std_e': 0.0013,\n",
    "            'std_i': 0.0025,\n",
    "            'E_i': -90.,\n",
    "        }\n",
    "    },\n",
    "    'CS_Cell': {\n",
    "        'sec_id': 2,\n",
    "        'sec_x': 0.8,\n",
    "        'weight': 1.,\n",
    "        'syn_param': {\n",
    "            \"initW\": 3.8,\n",
    "            \"tau_d_AMPA\": 5.2,\n",
    "            \"Use\": 1.0,\n",
    "            \"Dep\": 0.0,\n",
    "            \"Fac\": 0.0\n",
    "        },\n",
    "        'gfluct': {\n",
    "            'g_e0': 0.0044,\n",
    "            'g_i0': 0.004,\n",
    "            'std_e': 0.0011,\n",
    "            'std_i': 0.002,\n",
    "            'E_i': -90.,\n",
    "        }\n",
    "    },\n",
    "    'FSI_Cell':{\n",
    "        'sec_id': 1,\n",
    "        'sec_x': 0.5,\n",
    "        'weight': 1.,\n",
    "        'syn_param': {\n",
    "            \"initW\": 2.0,\n",
    "            \"tau_r_AMPA\": 0.4,\n",
    "            \"tau_d_AMPA\": 3.0,\n",
    "            \"Use\": 1.0,\n",
    "            \"Dep\": 0.0,\n",
    "            \"Fac\": 0.0\n",
    "        },\n",
    "        'gfluct': {\n",
    "            'g_e0': 0.001,\n",
    "            'g_i0': 0.004,\n",
    "            'std_e': 0.00025,\n",
    "            'std_i': 0.002,\n",
    "        }\n",
    "    },\n",
    "    'LTS_Cell':{\n",
    "        'sec_id': 1,\n",
    "        'sec_x': 0.5,\n",
    "        'weight': 1.,\n",
    "        'syn_param': {\n",
    "            \"initW\": 1.2,\n",
    "            \"tau_r_AMPA\": 0.4,\n",
    "            \"tau_d_AMPA\": 4.0,\n",
    "            \"Use\": 1.0,\n",
    "            \"Dep\": 0.0,\n",
    "            \"Fac\": 0.0\n",
    "        },\n",
    "        'gfluct': {\n",
    "            'g_e0': 0.0007,\n",
    "            'g_i0': 0.004,\n",
    "            'std_e': 0.000175,\n",
    "            'std_i': 0.002,\n",
    "        }\n",
    "    }\n",
    "}"
   ]
  },
  {
   "cell_type": "code",
   "execution_count": 3,
   "id": "ea1c25a8",
   "metadata": {},
   "outputs": [],
   "source": [
    "Cell = 'FSI_Cell'\n",
    "\n",
    "input_rate = 20. # Hz\n",
    "tstart = 500. # start counting spikes\n",
    "tdur = 20000.\n",
    "spike_threshold = 0.\n",
    "randseed = 0"
   ]
  },
  {
   "cell_type": "code",
   "execution_count": 4,
   "id": "cb2f2acd",
   "metadata": {},
   "outputs": [],
   "source": [
    "h.tstop = tstop = tstart + tdur # how long to run the simulation in ms\n",
    "settings = cell_type_settings[Cell]\n",
    "syn_param = settings['syn_param']\n",
    "gfluct = settings['gfluct']\n",
    "\n",
    "cell = getattr(h, Cell)()\n",
    "syn = h.AMPA_NMDA_STP(list(cell.all)[settings['sec_id']](settings['sec_x']))\n",
    "for key, val in syn_param.items():\n",
    "    setattr(syn, key, val)\n",
    "cell.insert_mechs(randseed)\n",
    "for key, val in gfluct.items():\n",
    "    setattr(cell.noise, key, val)\n",
    "\n",
    "nstim = h.NetStim()\n",
    "nstim.start = 0.\n",
    "nstim.noise = 1\n",
    "nc = h.NetCon(nstim, syn, 0., 0., settings['weight'])\n",
    "nc_rec = h.NetCon(cell.soma[0](0.5)._ref_v, None, sec=cell.soma[0])\n",
    "nc_rec.threshold = spike_threshold\n",
    "\n",
    "t = h.Vector() # Vectors are used to record data in the simulation\n",
    "tsyn = h.Vector() # synapse event times\n",
    "tspk = h.Vector() # spike event times\n",
    "soma_v = h.Vector()\n",
    "t.record(h._ref_t)\n",
    "nc.record(tsyn)\n",
    "nc_rec.record(tspk)\n",
    "soma_v.record(cell.soma[0](0.5)._ref_v)\n",
    "\n",
    "\n",
    "def set_gfluct(g_e0=0., g_i0=0., std_e=0., std_i=0., **kwargs):\n",
    "    cell.noise.g_e0 = g_e0\n",
    "    cell.noise.g_i0 = g_i0\n",
    "    cell.noise.std_e = std_e\n",
    "    cell.noise.std_i = std_i\n",
    "\n",
    "\n",
    "def set_input(initW=None, input_rate=None):\n",
    "    if initW is not None:\n",
    "        syn.initW = initW\n",
    "    if input_rate is not None:\n",
    "        if input_rate > 0:\n",
    "            nstim.interval = 1000 / input_rate\n",
    "            nstim.number = 10000\n",
    "        else:\n",
    "            nstim.number = 0\n",
    "\n",
    "set_input(input_rate=input_rate)"
   ]
  },
  {
   "cell_type": "markdown",
   "id": "203f2543",
   "metadata": {},
   "source": [
    "#### Tuning point conductance"
   ]
  },
  {
   "cell_type": "code",
   "execution_count": 5,
   "id": "2574ec75",
   "metadata": {},
   "outputs": [],
   "source": [
    "# disable\n",
    "set_gfluct()"
   ]
  },
  {
   "cell_type": "code",
   "execution_count": 6,
   "id": "17244d5b",
   "metadata": {},
   "outputs": [],
   "source": [
    "# gfluct.update({\n",
    "#     'g_e0': 0.0052,\n",
    "#     'g_i0': 0.005,\n",
    "#     'std_e': 0.0013,\n",
    "#     'std_i': 0.0025,\n",
    "# })\n",
    "# set_gfluct(**gfluct)"
   ]
  },
  {
   "cell_type": "markdown",
   "id": "4c852e31",
   "metadata": {},
   "source": [
    "#### Tuning input synaptic weight"
   ]
  },
  {
   "cell_type": "code",
   "execution_count": 7,
   "id": "f8d17346",
   "metadata": {},
   "outputs": [],
   "source": [
    "# disable\n",
    "# set_input(0)"
   ]
  },
  {
   "cell_type": "code",
   "execution_count": 8,
   "id": "3f073b0a",
   "metadata": {},
   "outputs": [
    {
     "name": "stdout",
     "output_type": "stream",
     "text": [
      "Default initW: 2\n"
     ]
    }
   ],
   "source": [
    "print('Default initW: %g' % syn_param['initW'])\n",
    "# set_input(2.0)"
   ]
  },
  {
   "cell_type": "markdown",
   "id": "0b5277e5",
   "metadata": {},
   "source": [
    "### Run and test"
   ]
  },
  {
   "cell_type": "code",
   "execution_count": 9,
   "id": "6b05063f",
   "metadata": {},
   "outputs": [
    {
     "data": {
      "text/plain": [
       "0.0"
      ]
     },
     "execution_count": 9,
     "metadata": {},
     "output_type": "execute_result"
    }
   ],
   "source": [
    "h.run()"
   ]
  },
  {
   "cell_type": "code",
   "execution_count": 10,
   "id": "7273032e",
   "metadata": {},
   "outputs": [
    {
     "name": "stdout",
     "output_type": "stream",
     "text": [
      "Firing rate: 2.1 Hz\n"
     ]
    },
    {
     "data": {
      "image/png": "[encoded data removed]",
      "text/plain": [
       "<Figure size 864x360 with 1 Axes>"
      ]
     },
     "metadata": {
      "needs_background": "light"
     },
     "output_type": "display_data"
    }
   ],
   "source": [
    "spktimes = np.array(tspk)\n",
    "spktimes = spktimes[spktimes > tstart]\n",
    "nspk = spktimes.size\n",
    "firing_rate = nspk / tdur * 1000\n",
    "print(f'Firing rate: {firing_rate:.4g} Hz')\n",
    "\n",
    "plt.figure(figsize=(12, 5))\n",
    "plt.plot(t, soma_v, 'b')\n",
    "for x in tsyn:\n",
    "    plt.axvline(x, 0., 0.05, color='r', linewidth=0.5)\n",
    "plt.xlim([0, tstop])\n",
    "plt.xlabel('Time (ms)')\n",
    "plt.ylabel('Voltage (mV)')\n",
    "plt.show()"
   ]
  },
  {
   "cell_type": "code",
   "execution_count": null,
   "id": "e2a95400",
   "metadata": {},
   "outputs": [],
   "source": []
  }
 ],
 "metadata": {
  "kernelspec": {
   "display_name": "Python 3 (ipykernel)",
   "language": "python",
   "name": "python3"
  },
  "language_info": {
   "codemirror_mode": {
    "name": "ipython",
    "version": 3
   },
   "file_extension": ".py",
   "mimetype": "text/x-python",
   "name": "python",
   "nbconvert_exporter": "python",
   "pygments_lexer": "ipython3",
   "version": "3.9.12"
  }
 },
 "nbformat": 4,
 "nbformat_minor": 5
}
